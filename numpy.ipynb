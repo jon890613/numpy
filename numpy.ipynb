{
  "nbformat": 4,
  "nbformat_minor": 0,
  "metadata": {
    "colab": {
      "name": "numpy.ipynb",
      "provenance": [],
      "authorship_tag": "ABX9TyM+mZrkvqd7G2o8bxEC/rtV",
      "include_colab_link": true
    },
    "kernelspec": {
      "name": "python3",
      "display_name": "Python 3"
    }
  },
  "cells": [
    {
      "cell_type": "markdown",
      "metadata": {
        "id": "view-in-github",
        "colab_type": "text"
      },
      "source": [
        "<a href=\"https://colab.research.google.com/github/jon890613/numpy/blob/main/numpy.ipynb\" target=\"_parent\"><img src=\"https://colab.research.google.com/assets/colab-badge.svg\" alt=\"Open In Colab\"/></a>"
      ]
    },
    {
      "cell_type": "code",
      "metadata": {
        "id": "7XU1LEDN6_-t"
      },
      "source": [
        "import numpy as np\n",
        "#建立陣列 \n",
        "ar2=np.array([[1,3,5],[2,8,7]]) # 2 * 3 的陣列"
      ],
      "execution_count": null,
      "outputs": []
    },
    {
      "cell_type": "code",
      "metadata": {
        "id": "Ehc5VMkkfOsL",
        "outputId": "827ac57d-d583-4678-ce8d-2fcdeba5eaa7",
        "colab": {
          "base_uri": "https://localhost:8080/",
          "height": 85
        }
      },
      "source": [
        "#陣列的shape(形狀) and dimension(維度)\n",
        "print(\"ar2.ndim ->\",ar2.ndim)  #維度\n",
        "print(\"ar2.shap ->e\",ar2.shape) #形狀(tuple的資料形式)\n",
        "print(\"ar2.shape[0] ->\",ar2.shape[0])\n",
        "print(\"ar2.shape[1] ->\",ar2.shape[1])"
      ],
      "execution_count": null,
      "outputs": [
        {
          "output_type": "stream",
          "text": [
            "ar2.ndim -> 2\n",
            "ar2.shap ->e (2, 3)\n",
            "ar2.shape[0] -> 2\n",
            "ar2.shape[1] -> 3\n"
          ],
          "name": "stdout"
        }
      ]
    },
    {
      "cell_type": "code",
      "metadata": {
        "id": "PzFCdu1F7s6f",
        "outputId": "d075fb71-d67f-4a6d-bfe7-c6c8c667eead",
        "colab": {
          "base_uri": "https://localhost:8080/",
          "height": 136
        }
      },
      "source": [
        "#陣列的資料型態(dtype)與型態轉換(astype)\n",
        "ar= np.array([2,4,6,8])\n",
        "print(\"ar.dtype ->\",ar.dtype) #資料型態(dtype)\n",
        "\n",
        "\n",
        "ar= np.array([2,4,6,8], dtype = float); \n",
        "print(\"ar.dtype ->\",ar.dtype)\n",
        "\n",
        "\n",
        "ar = np.array([2.,4,5,8]) # 2.判定為float\n",
        "print(\"ar.dtype ->\",ar.dtype)\n",
        "\n",
        "\n",
        "f_ar = np.array([13,-3,8.88])\n",
        "print(\"f_ar ->\",f_ar)\n",
        "print(\"f_ar.dtype ->\",f_ar.dtype)\n",
        "\n",
        "\n",
        "intf_ar=f_ar.astype(int)  #型態轉換(astype)\n",
        "print(\"intf_ar ->\",intf_ar)\n",
        "print(\"intf_ar.dtype ->\",intf_ar.dtype)"
      ],
      "execution_count": null,
      "outputs": [
        {
          "output_type": "stream",
          "text": [
            "ar.dtype -> int64\n",
            "ar.dtype -> float64\n",
            "ar.dtype -> float64\n",
            "f_ar -> [13.   -3.    8.88]\n",
            "f_ar.dtype -> float64\n",
            "intf_ar -> [13 -3  8]\n",
            "intf_ar.dtype -> int64\n"
          ],
          "name": "stdout"
        }
      ]
    },
    {
      "cell_type": "code",
      "metadata": {
        "id": "tPwXNLgQbZlY",
        "outputId": "39624018-d1e7-4b98-e589-23987c80624a",
        "colab": {
          "base_uri": "https://localhost:8080/",
          "height": 476
        }
      },
      "source": [
        "#建立array的方法\n",
        "\n",
        "print(\"np.zeros((2,3)) ->\\n\",np.zeros((2,3))) #建立2*3都為0的陣列\n",
        "\n",
        "print(\"np.arange(2,3,0.1) ->\",np.arange(2,3,0.1)) #star,end,step\n",
        "\n",
        "print(\"np.linspace(1,4,6) ->\",np.linspace(1,4,6)) #star,end,num 切成num等分\n",
        "\n",
        "print(\"np.indices((3,3)) ->\\n\",np.indices((3,3))) #產生 3 3 的索引陣列\n",
        "\n",
        "print(\"np.linspace(2,3,5,endpoint=False) ->\",np.linspace(2,3,5,endpoint=False))\n",
        "\n",
        "print(\"np.linspace(2,3,5,retstep=True) ->\",np.linspace(2,3,5,retstep=True))\n",
        "\n",
        "print(\"np.eye(3) ->\\n\",np.eye(3)) #生成對角矩陣(值為1)\n",
        "print(\"np.diag((2,4,6,8))->\\n\",np.diag((2,4,6,8)))  #生成對角線矩陣\n"
      ],
      "execution_count": null,
      "outputs": [
        {
          "output_type": "stream",
          "text": [
            "np.zeros((2,3)) ->\n",
            " [[0. 0. 0.]\n",
            " [0. 0. 0.]]\n",
            "np.arange(2,3,0.1) -> [2.  2.1 2.2 2.3 2.4 2.5 2.6 2.7 2.8 2.9]\n",
            "np.linspace(1,4,6) -> [1.  1.6 2.2 2.8 3.4 4. ]\n",
            "np.indices((3,3)) ->\n",
            " [[[0 0 0]\n",
            "  [1 1 1]\n",
            "  [2 2 2]]\n",
            "\n",
            " [[0 1 2]\n",
            "  [0 1 2]\n",
            "  [0 1 2]]]\n",
            "np.linspace(2,3,5,endpoint=False) -> [2.  2.2 2.4 2.6 2.8]\n",
            "np.linspace(2,3,5,retstep=True) -> (array([2.  , 2.25, 2.5 , 2.75, 3.  ]), 0.25)\n",
            "np.eye(3) ->\n",
            " [[1. 0. 0.]\n",
            " [0. 1. 0.]\n",
            " [0. 0. 1.]]\n",
            "np.diag((2,4,6,8))->\n",
            " [[2 0 0 0]\n",
            " [0 4 0 0]\n",
            " [0 0 6 0]\n",
            " [0 0 0 8]]\n",
            "[[2 3 4]\n",
            " [4 5 6]\n",
            " [6 7 8]]\n"
          ],
          "name": "stdout"
        }
      ]
    },
    {
      "cell_type": "code",
      "metadata": {
        "id": "qX517JjpNbvb",
        "outputId": "fd05a0ee-d21b-44fc-f53c-9ff65a594f17",
        "colab": {
          "base_uri": "https://localhost:8080/",
          "height": 68
        }
      },
      "source": [
        "print(np.array([range(i,i+3)for i in [2,4,6]]))"
      ],
      "execution_count": null,
      "outputs": [
        {
          "output_type": "stream",
          "text": [
            "[[2 3 4]\n",
            " [4 5 6]\n",
            " [6 7 8]]\n"
          ],
          "name": "stdout"
        }
      ]
    },
    {
      "cell_type": "code",
      "metadata": {
        "id": "kN7_IzRcNmpv",
        "outputId": "c25ad0af-7daf-4056-87ad-59b6d9db9f6d",
        "colab": {
          "base_uri": "https://localhost:8080/",
          "height": 34
        }
      },
      "source": [
        "a = np.array([0,1,2])\n",
        "print(a)"
      ],
      "execution_count": null,
      "outputs": [
        {
          "output_type": "stream",
          "text": [
            "[0 1 2]\n"
          ],
          "name": "stdout"
        }
      ]
    },
    {
      "cell_type": "code",
      "metadata": {
        "id": "9qLLVyn-79HG",
        "outputId": "16b0cc82-af78-4f7e-f3b5-8db55b02e17a",
        "colab": {
          "base_uri": "https://localhost:8080/"
        }
      },
      "source": [
        "data = np.random.randn(2,3)\n",
        "print(data)"
      ],
      "execution_count": null,
      "outputs": [
        {
          "output_type": "stream",
          "text": [
            "[[-0.76505306 -0.43454336  0.14432207]\n",
            " [ 0.45647399  0.1271756  -0.54305463]]\n"
          ],
          "name": "stdout"
        }
      ]
    },
    {
      "cell_type": "code",
      "metadata": {
        "id": "PFgQGQMKDIJz",
        "outputId": "891609ad-e61e-44fa-d36c-0e9d2cb92280",
        "colab": {
          "base_uri": "https://localhost:8080/"
        }
      },
      "source": [
        "data = np.random.uniform(1,5,5)\n",
        "print(data)"
      ],
      "execution_count": null,
      "outputs": [
        {
          "output_type": "stream",
          "text": [
            "[4.90609656 3.58347658 1.37179701 3.87114029 1.34274464]\n"
          ],
          "name": "stdout"
        }
      ]
    },
    {
      "cell_type": "code",
      "metadata": {
        "id": "c-eGDrNPE3-l",
        "outputId": "92109fe5-331d-4124-cec6-a5fa1f061a97",
        "colab": {
          "base_uri": "https://localhost:8080/"
        }
      },
      "source": [
        "sum(data)"
      ],
      "execution_count": null,
      "outputs": [
        {
          "output_type": "execute_result",
          "data": {
            "text/plain": [
              "15.075255069891961"
            ]
          },
          "metadata": {
            "tags": []
          },
          "execution_count": 28
        }
      ]
    },
    {
      "cell_type": "code",
      "metadata": {
        "id": "eokxUxhcFjWW",
        "outputId": "29ca9dd1-2e97-4348-c246-ce7ddcb13700",
        "colab": {
          "base_uri": "https://localhost:8080/"
        }
      },
      "source": [
        "np.ones(10)"
      ],
      "execution_count": null,
      "outputs": [
        {
          "output_type": "execute_result",
          "data": {
            "text/plain": [
              "array([1., 1., 1., 1., 1., 1., 1., 1., 1., 1.])"
            ]
          },
          "metadata": {
            "tags": []
          },
          "execution_count": 32
        }
      ]
    },
    {
      "cell_type": "code",
      "metadata": {
        "id": "FAem5BG6IeRL",
        "outputId": "89a4c0e7-b4ea-46f4-d428-5126dbc7bf3c",
        "colab": {
          "base_uri": "https://localhost:8080/"
        }
      },
      "source": [
        "np.ones(10) * 10 "
      ],
      "execution_count": null,
      "outputs": [
        {
          "output_type": "execute_result",
          "data": {
            "text/plain": [
              "array([10., 10., 10., 10., 10., 10., 10., 10., 10., 10.])"
            ]
          },
          "metadata": {
            "tags": []
          },
          "execution_count": 33
        }
      ]
    },
    {
      "cell_type": "code",
      "metadata": {
        "id": "-juGNxEGIe8j",
        "outputId": "18eb4dbf-42d7-468b-f54e-b0b64370a5e2",
        "colab": {
          "base_uri": "https://localhost:8080/"
        }
      },
      "source": [
        "np.arange(10) #產生出陣列"
      ],
      "execution_count": null,
      "outputs": [
        {
          "output_type": "execute_result",
          "data": {
            "text/plain": [
              "array([0, 1, 2, 3, 4, 5, 6, 7, 8, 9])"
            ]
          },
          "metadata": {
            "tags": []
          },
          "execution_count": 35
        }
      ]
    },
    {
      "cell_type": "code",
      "metadata": {
        "id": "sDSxMQYyI6rn",
        "outputId": "4bb6919e-4d9d-4047-ffc6-060dfb5bb35b",
        "colab": {
          "base_uri": "https://localhost:8080/"
        }
      },
      "source": [
        "arr1=np.ones((2,2))\n",
        "arr2=np.array(arr1)\n",
        "arr3=np.asarray(arr1)\n",
        "arr1[0]=2\n",
        "print(\"arr1=\\n\",arr1)\n",
        "print(\"arr2=\\n\",arr2)\n",
        "print(\"arr3=\\n\",arr3)"
      ],
      "execution_count": null,
      "outputs": [
        {
          "output_type": "stream",
          "text": [
            "arr1=\n",
            " [[2. 2.]\n",
            " [1. 1.]]\n",
            "arr2=\n",
            " [[1. 1.]\n",
            " [1. 1.]]\n",
            "arr3=\n",
            " [[2. 2.]\n",
            " [1. 1.]]\n"
          ],
          "name": "stdout"
        }
      ]
    },
    {
      "cell_type": "code",
      "metadata": {
        "id": "GKDWD4DkKIjW",
        "outputId": "9a0c71a8-c6df-4547-ac84-5a692ca71293",
        "colab": {
          "base_uri": "https://localhost:8080/"
        }
      },
      "source": [
        "a = np.empty([2,2],int)\n",
        "print(a)"
      ],
      "execution_count": null,
      "outputs": [
        {
          "output_type": "stream",
          "text": [
            "[[4611686018427387904 4611686018427387904]\n",
            " [4607182418800017408 4607182418800017408]]\n"
          ],
          "name": "stdout"
        }
      ]
    },
    {
      "cell_type": "code",
      "metadata": {
        "id": "SG9aoblSMXkC"
      },
      "source": [
        ""
      ],
      "execution_count": null,
      "outputs": []
    }
  ]
}